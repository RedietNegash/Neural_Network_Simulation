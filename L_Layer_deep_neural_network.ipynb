{
  "nbformat": 4,
  "nbformat_minor": 0,
  "metadata": {
    "colab": {
      "provenance": [],
      "authorship_tag": "ABX9TyM1NCCCFC1E66rKWd75c+Eu",
      "include_colab_link": true
    },
    "kernelspec": {
      "name": "python3",
      "display_name": "Python 3"
    },
    "language_info": {
      "name": "python"
    }
  },
  "cells": [
    {
      "cell_type": "markdown",
      "metadata": {
        "id": "view-in-github",
        "colab_type": "text"
      },
      "source": [
        "<a href=\"https://colab.research.google.com/github/RedietNegash/Neural_Network_Simulation/blob/main/L_Layer_deep_neural_network.ipynb\" target=\"_parent\"><img src=\"https://colab.research.google.com/assets/colab-badge.svg\" alt=\"Open In Colab\"/></a>"
      ]
    },
    {
      "cell_type": "markdown",
      "source": [],
      "metadata": {
        "id": "H0pJs42ASAUN"
      }
    },
    {
      "cell_type": "code",
      "source": [
        "import random\n",
        "import math\n"
      ],
      "metadata": {
        "id": "-b_5hSAyVelP"
      },
      "execution_count": 1,
      "outputs": []
    },
    {
      "cell_type": "markdown",
      "source": [
        "-> Initalize weights and bias for the L-layers\n",
        "\n",
        "->L is for number of layers in the network"
      ],
      "metadata": {
        "id": "2WeZV8aHcdoN"
      }
    },
    {
      "cell_type": "code",
      "execution_count": 2,
      "metadata": {
        "id": "MXJDyimvR2ek"
      },
      "outputs": [],
      "source": [
        "def initialize_parameters_deep(layer_dims):\n",
        "\n",
        "    parameters = {}\n",
        "    L = len(layer_dims)\n",
        "\n",
        "    for l in range(1, L):\n",
        "        parameters['W' + str(l)] = [[random.uniform(-0.01, 0.01) for _ in range(layer_dims[l-1])] for _ in range(layer_dims[l])]\n",
        "        parameters['b' + str(l)] = [0] * layer_dims[l]\n",
        "\n",
        "    return parameters"
      ]
    },
    {
      "cell_type": "markdown",
      "source": [
        "#Forward Propagation\n",
        "\n",
        "Linear combination-> Zj=∑i(Ai⋅Wji)+bj\n",
        "\n",
        "RLU-> A1=ReLU(Z1)\n",
        "\n",
        "Sigmoid-> Z1=W1⋅X+b1\n",
        "\n"
      ],
      "metadata": {
        "id": "otsslW8mdf4p"
      }
    },
    {
      "cell_type": "markdown",
      "source": [
        "Apply the linear combination of inputs A and weights W, add bias b for each output"
      ],
      "metadata": {
        "id": "Cpvt6Ijje9Fi"
      }
    },
    {
      "cell_type": "code",
      "source": [
        "\n",
        "def linear_forward(A, W, b):\n",
        "    Z = [sum(A[i] * W[j][i] for i in range(len(A))) + b[j] for j in range(len(b))]\n",
        "    return Z\n"
      ],
      "metadata": {
        "id": "-AP2LFSfdiMz"
      },
      "execution_count": 28,
      "outputs": []
    },
    {
      "cell_type": "markdown",
      "source": [
        "Apply ReLU function to each element in Z, replacing negative values with 0"
      ],
      "metadata": {
        "id": "wVA2LgxQfLMv"
      }
    },
    {
      "cell_type": "code",
      "source": [
        "def relu(Z):\n",
        "    return [max(0, z) for z in Z]"
      ],
      "metadata": {
        "id": "wE-F89oAfWfW"
      },
      "execution_count": 17,
      "outputs": []
    },
    {
      "cell_type": "markdown",
      "source": [
        "Apply the sigmoid function to each element in Z to map a real number to a value between 0 and 1"
      ],
      "metadata": {
        "id": "pOw5X2PUfZNj"
      }
    },
    {
      "cell_type": "code",
      "source": [
        "def sigmoid(Z):\n",
        "    return [1 / (1 + math.exp(-z)) for z in Z]"
      ],
      "metadata": {
        "id": "keo1_BoRfwBx"
      },
      "execution_count": 18,
      "outputs": []
    },
    {
      "cell_type": "markdown",
      "source": [
        "-> For each layer except the output layer   transformation followed by ReLU activation\n",
        "\n",
        "-> For the final layer apply linear transformation followed by sigmoid activation"
      ],
      "metadata": {
        "id": "C6UTXdW6gQkn"
      }
    },
    {
      "cell_type": "code",
      "source": [
        "def L_model_forward(X, parameters):\n",
        "    caches = []\n",
        "    A = X\n",
        "    L = len(parameters) // 2\n",
        "\n",
        "\n",
        "    for l in range(1, L):\n",
        "        A_prev = A\n",
        "        W = parameters['W' + str(l)]\n",
        "        b = parameters['b' + str(l)]\n",
        "        Z = linear_forward(A_prev, W, b)\n",
        "        A = relu(Z)\n",
        "        caches.append((A_prev, W, b, Z))\n",
        "\n",
        "    WL = parameters['W' + str(L)]\n",
        "    bL = parameters['b' + str(L)]\n",
        "    ZL = linear_forward(A, WL, bL)\n",
        "    AL = sigmoid(ZL)\n",
        "    caches.append((A, WL, bL, ZL))\n",
        "\n",
        "    return AL, caches"
      ],
      "metadata": {
        "id": "E0ORKn5hf_SH"
      },
      "execution_count": 19,
      "outputs": []
    },
    {
      "cell_type": "markdown",
      "source": [
        "Apply the cost function"
      ],
      "metadata": {
        "id": "eh68uLQ4hKF-"
      }
    },
    {
      "cell_type": "code",
      "source": [
        "def compute_cost(AL, Y):\n",
        "    m = len(Y)\n",
        "    cost = -sum(Y[i] * math.log(AL[i]) + (1 - Y[i]) * math.log(1 - AL[i]) for i in range(m)) / m\n",
        "    return cost"
      ],
      "metadata": {
        "id": "H8VBbJRNhOwO"
      },
      "execution_count": 20,
      "outputs": []
    },
    {
      "cell_type": "markdown",
      "source": [
        "Pass the gradient back only for positive ReLU inputs otherwise set it to 0\n"
      ],
      "metadata": {
        "id": "-Zlf9-j3oeg3"
      }
    },
    {
      "cell_type": "code",
      "source": [
        "def relu_backward(dA, Z):\n",
        "    return [dA[i] if Z[i] > 0 else 0 for i in range(len(Z))]"
      ],
      "metadata": {
        "id": "NSimnr-ypuV2"
      },
      "execution_count": 21,
      "outputs": []
    },
    {
      "cell_type": "markdown",
      "source": [
        "Calculate the gradient of the loss function with respect to the input of the sigmoid activation function."
      ],
      "metadata": {
        "id": "Selzwskqfr8v"
      }
    },
    {
      "cell_type": "code",
      "source": [
        "def sigmoid_backward(dA, Z):\n",
        "    s = sigmoid(Z)\n",
        "    return [dA[i] * s[i] * (1 - s[i]) for i in range(len(s))]"
      ],
      "metadata": {
        "id": "qvUNEe0ZqUPx"
      },
      "execution_count": 22,
      "outputs": []
    },
    {
      "cell_type": "markdown",
      "source": [
        "calcualte gradients for weights, biases, and previous layer's activations\n"
      ],
      "metadata": {
        "id": "tzpBODGdftOT"
      }
    },
    {
      "cell_type": "code",
      "source": [
        "def linear_backward(dZ, A_prev, W):\n",
        "    m = len(A_prev)\n",
        "    dW = [[sum(dZ[j] * A_prev[i][k] for k in range(m)) / m for i in range(len(A_prev))] for j in range(len(W))]\n",
        "    db = [sum(dZ[j] for j in range(len(dZ))) / len(dZ) for j in range(len(dZ))]\n",
        "    dA_prev = [sum(W[i][j] * dZ[j] for j in range(len(dZ))) for i in range(len(A_prev))]\n",
        "    return dA_prev, dW, db\n"
      ],
      "metadata": {
        "id": "Drds4jj8tf4k"
      },
      "execution_count": 23,
      "outputs": []
    },
    {
      "cell_type": "markdown",
      "source": [
        "calculate the gradients for all layers during the backpropagation"
      ],
      "metadata": {
        "id": "kdzrdKHJtsXq"
      }
    },
    {
      "cell_type": "code",
      "source": [
        "def L_model_backward(AL, Y, caches):\n",
        "    grads = {}\n",
        "    L = len(caches)\n",
        "    m = len(Y)\n",
        "\n",
        "    dAL = [(AL[i] - Y[i]) / (AL[i] * (1 - AL[i])) for i in range(len(Y))]\n",
        "    current_cache = caches[L-1]\n",
        "    A_prev, W, b, Z = current_cache\n",
        "    dZL = sigmoid_backward(dAL, Z)\n",
        "    dA_prev, dWL, dbL = linear_backward(dZL, A_prev, W)\n",
        "    grads[\"dW\" + str(L)] = dWL\n",
        "    grads[\"db\" + str(L)] = dbL\n",
        "\n",
        "    for l in reversed(range(L-1)):\n",
        "        current_cache = caches[l]\n",
        "        A_prev, W, b, Z = current_cache\n",
        "        dA = dA_prev\n",
        "        dZ = relu_backward(dA, Z)\n",
        "        dA_prev, dW, db = linear_backward(dZ, A_prev, W)\n",
        "        grads[\"dW\" + str(l+1)] = dW\n",
        "        grads[\"db\" + str(l+1)] = db\n",
        "        dA_prev = dA_prev\n",
        "\n",
        "    return grads"
      ],
      "metadata": {
        "id": "axjN6lfutrAC"
      },
      "execution_count": 24,
      "outputs": []
    },
    {
      "cell_type": "markdown",
      "source": [
        "Update model parameters using gradient descent with the given learning rate.\n"
      ],
      "metadata": {
        "id": "k57_UFYpuB3Q"
      }
    },
    {
      "cell_type": "code",
      "source": [
        "def update_parameters(parameters, grads, learning_rate):\n",
        "    L = len(parameters) // 2\n",
        "    for l in range(1, L + 1):\n",
        "        parameters['W' + str(l)] = [[parameters['W' + str(l)][i][j] - learning_rate * grads['dW' + str(l)][i][j] for j in range(len(parameters['W' + str(l)][0]))] for i in range(len(parameters['W' + str(l)]))]\n",
        "        parameters['b' + str(l)] = [parameters['b' + str(l)][i] - learning_rate * grads['db' + str(l)][i] for i in range(len(parameters['b' + str(l)]))]\n",
        "\n",
        "    return parameters\n"
      ],
      "metadata": {
        "id": "U7NnU8C1uDai"
      },
      "execution_count": 25,
      "outputs": []
    },
    {
      "cell_type": "markdown",
      "source": [
        "Train a deep neural network by iterating through forward and backward propagation.\n",
        "\n"
      ],
      "metadata": {
        "id": "ehtz7dFEuPKb"
      }
    },
    {
      "cell_type": "code",
      "source": [],
      "metadata": {
        "id": "FSPppieS8riy"
      },
      "execution_count": 62,
      "outputs": []
    },
    {
      "cell_type": "code",
      "source": [
        "def L_layer_model(X, Y, layers_dims, learning_rate=0.0075, num_iterations=3000, print_cost=False):\n",
        "    costs = []\n",
        "\n",
        "    parameters = initialize_parameters_deep(layers_dims)\n",
        "\n",
        "    for i in range(0, num_iterations):\n",
        "        AL, caches = L_model_forward(X, parameters)\n",
        "        cost = compute_cost(AL, Y)\n",
        "        grads = L_model_backward(AL, Y, caches)\n",
        "        parameters = update_parameters(parameters, grads, learning_rate)\n",
        "\n",
        "        if print_cost and i % 100 == 0:\n",
        "            print(\"Cost after iteration {}: {}\".format(i, cost))\n",
        "            costs.append(cost)\n",
        "\n",
        "    return parameters"
      ],
      "metadata": {
        "id": "semWCKYFunmM"
      },
      "execution_count": 63,
      "outputs": []
    },
    {
      "cell_type": "markdown",
      "source": [
        "Test"
      ],
      "metadata": {
        "id": "4MqdHRYAu025"
      }
    },
    {
      "cell_type": "code",
      "source": [],
      "metadata": {
        "id": "_v-zkvfru2Yh"
      },
      "execution_count": 81,
      "outputs": []
    },
    {
      "cell_type": "code",
      "source": [],
      "metadata": {
        "id": "jhuIBZjNx_t_"
      },
      "execution_count": 81,
      "outputs": []
    },
    {
      "cell_type": "code",
      "source": [],
      "metadata": {
        "id": "B5QtwoBVyr9A"
      },
      "execution_count": 81,
      "outputs": []
    },
    {
      "cell_type": "code",
      "source": [],
      "metadata": {
        "id": "BQXlOExJ3JrT"
      },
      "execution_count": 81,
      "outputs": []
    },
    {
      "cell_type": "code",
      "source": [],
      "metadata": {
        "id": "63Z-9Egs3SkU"
      },
      "execution_count": 81,
      "outputs": []
    },
    {
      "cell_type": "markdown",
      "source": [],
      "metadata": {
        "id": "IrLFC9KmzEgB"
      }
    },
    {
      "cell_type": "code",
      "source": [],
      "metadata": {
        "id": "7eotatHL3cIu"
      },
      "execution_count": 81,
      "outputs": []
    },
    {
      "cell_type": "code",
      "source": [],
      "metadata": {
        "id": "j2BJk-bgBlyO"
      },
      "execution_count": 81,
      "outputs": []
    }
  ]
}